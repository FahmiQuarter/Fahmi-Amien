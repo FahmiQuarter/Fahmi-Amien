{
  "cells": [
    {
      "cell_type": "markdown",
      "metadata": {
        "id": "dGIpQt4RTjGu"
      },
      "source": [
        "## NIM  : 11200478\n",
        "## NAMA : Fahmi Amien Nur Rohmat\n",
        "## JURUSAN : SI\n",
        "\n"
      ]
    },
    {
      "cell_type": "markdown",
      "source": [
        "# Tugas - Fungsi\n",
        "## Tujuan & Manfaat\n",
        "Pada praktikum 10 - Fungsi, mahasiswa diharapkan:\n",
        "   1. Mahasiswa mengerti syntax operator pada python\n",
        "   2. Mahasiswa dapat menjalankan program python menggunakan IDE\n",
        "   3. Mahasiswa mengerti konsep dari Fungsi pada python\n",
        "   4. Mahasiswa dapat menerapkan dalam program"
      ],
      "metadata": {
        "id": "2NTI-ytzglfY"
      }
    },
    {
      "cell_type": "markdown",
      "metadata": {
        "id": "CJ4AgF8rTjHt"
      },
      "source": [
        "Fungsi adalah blok kode terorganisir dan dapat digunakan kembali yang digunakan untuk melakukan sebuah tindakan/action. Fungsi memberikan modularitas yang lebih baik untuk aplikasi Anda dan tingkat penggunaan kode yang tinggi.\n",
        "\n",
        "### Mendefinisikan Fungsi Python\n",
        "\n",
        "Anda dapat menentukan fungsi untuk menyediakan fungsionalitas yang dibutuhkan. Berikut adalah aturan sederhana untuk mendefinisikan fungsi dengan Python.\n",
        "\n",
        "- Fungsi blok dimulai dengan def kata kunci diikuti oleh nama fungsi dan tanda kurung (()).\n",
        "- Setiap parameter masukan atau argumen harus ditempatkan di dalam tanda kurung ini. Anda juga dapat menentukan parameter di dalam tanda kurung ini.\n",
        "- Pernyataan pertama dari sebuah fungsi dapat berupa pernyataan opsional - string dokumentasi fungsi atau docstring.\n",
        "- Blok kode dalam setiap fungsi dimulai dengan titik dua (:) dan indentasi.\n",
        "- Pernyataan kembali [ekspresi] keluar dari sebuah fungsi, secara opsional menyampaikan kembali ekspresi ke pemanggil. Pernyataan pengembalian tanpa argumen sama dengan return None.\n",
        "\n",
        "## JAWABAN TUGAS :"
      ]
    },
    {
      "cell_type": "code",
      "source": [
        "print (\"Volume Bola :\\n\")\n",
        "\n",
        "jari=int(input(\"Masukan Jari-jari Bola : \"))\n",
        "phi=(22/7)\n",
        "\n",
        "volume=int((4/3)*phi*(jari*jari*jari))\n",
        "\n",
        "print (\"Volume Bola = \", volume)"
      ],
      "metadata": {
        "id": "V0Drjsb_h1KF",
        "outputId": "4ff35c48-f0c9-4d9e-ec1f-af69fd39c7b6",
        "colab": {
          "base_uri": "https://localhost:8080/"
        }
      },
      "execution_count": 4,
      "outputs": [
        {
          "output_type": "stream",
          "name": "stdout",
          "text": [
            "Volume Bola :\n",
            "\n",
            "Masukan Jari-jari Bola : 44\n",
            "Volume Bola =  356961\n"
          ]
        }
      ]
    }
  ],
  "metadata": {
    "kernelspec": {
      "display_name": "Python 3",
      "language": "python",
      "name": "python3"
    },
    "language_info": {
      "codemirror_mode": {
        "name": "ipython",
        "version": 3
      },
      "file_extension": ".py",
      "mimetype": "text/x-python",
      "name": "python",
      "nbconvert_exporter": "python",
      "pygments_lexer": "ipython3",
      "version": "3.7.7"
    },
    "colab": {
      "name": "11200478_FahmiAmien_Lembar_Jawab_python_function.ipynb",
      "provenance": [],
      "collapsed_sections": []
    }
  },
  "nbformat": 4,
  "nbformat_minor": 0
}